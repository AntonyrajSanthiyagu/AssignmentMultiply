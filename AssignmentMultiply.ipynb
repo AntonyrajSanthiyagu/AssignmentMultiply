{
 "cells": [
  {
   "cell_type": "code",
   "execution_count": 3,
   "id": "a9c85eba-45a5-43a5-9c13-7836e140c0f0",
   "metadata": {},
   "outputs": [
    {
     "name": "stdout",
     "output_type": "stream",
     "text": [
      "11 * 20 = 220\n",
      "12 * 20 = 240\n",
      "13 * 20 = 260\n",
      "14 * 20 = 280\n",
      "15 * 20 = 300\n",
      "16 * 20 = 320\n",
      "17 * 20 = 340\n",
      "18 * 20 = 360\n",
      "19 * 20 = 380\n",
      "20 * 20 = 400\n"
     ]
    }
   ],
   "source": [
    "for i in range(11, 21):\n",
    "    multiply=i*20\n",
    "    print(f\"{i} * 20 = {multiply}\")\n",
    "    "
   ]
  },
  {
   "cell_type": "code",
   "execution_count": null,
   "id": "45c3ed96-4fd0-4e78-a8c5-c2a04fabc793",
   "metadata": {},
   "outputs": [],
   "source": []
  }
 ],
 "metadata": {
  "kernelspec": {
   "display_name": "Python 3 (ipykernel)",
   "language": "python",
   "name": "python3"
  },
  "language_info": {
   "codemirror_mode": {
    "name": "ipython",
    "version": 3
   },
   "file_extension": ".py",
   "mimetype": "text/x-python",
   "name": "python",
   "nbconvert_exporter": "python",
   "pygments_lexer": "ipython3",
   "version": "3.12.4"
  }
 },
 "nbformat": 4,
 "nbformat_minor": 5
}
